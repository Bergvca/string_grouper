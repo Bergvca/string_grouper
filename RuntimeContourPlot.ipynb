{
 "cells": [
  {
   "cell_type": "code",
   "execution_count": 99,
   "id": "military-shooting",
   "metadata": {
    "execution": {
     "iopub.execute_input": "2021-09-27T11:54:37.711977Z",
     "iopub.status.busy": "2021-09-27T11:54:37.711977Z",
     "iopub.status.idle": "2021-09-27T11:54:37.963830Z",
     "shell.execute_reply": "2021-09-27T11:54:37.962831Z",
     "shell.execute_reply.started": "2021-09-27T11:54:37.711977Z"
    },
    "tags": []
   },
   "outputs": [
    {
     "data": {
      "application/vnd.jupyter.widget-view+json": {
       "model_id": "f6ce330840764321bf7908f8c716e96d",
       "version_major": 2,
       "version_minor": 0
      },
      "text/plain": [
       "Canvas(toolbar=Toolbar(toolitems=[('Home', 'Reset original view', 'home', 'home'), ('Back', 'Back to previous …"
      ]
     },
     "metadata": {},
     "output_type": "display_data"
    },
    {
     "data": {
      "text/plain": [
       "Text(12.222363377404328, 10.950406535472453, 'optimum')"
      ]
     },
     "execution_count": 99,
     "metadata": {},
     "output_type": "execute_result"
    }
   ],
   "source": [
    "%matplotlib widget\n",
    "from mpl_toolkits import mplot3d\n",
    "import numpy as np\n",
    "import matplotlib.pyplot as plt\n",
    "import matplotlib\n",
    "\n",
    "# fig, ax = plt.subplots()\n",
    "\n",
    "with open('runtime_means_xy_5e4-5e5.npy', 'rb') as f:\n",
    "    means = np.load(f)\n",
    "    X = np.load(f)\n",
    "    Y = np.load(f)\n",
    "\n",
    "with open('runtime_means_x_5e4-5e5_y_5e3-5e4.npy', 'rb') as f:\n",
    "    means21 = np.load(f)\n",
    "    X21 = np.load(f)\n",
    "    Y21 = np.load(f)\n",
    "\n",
    "with open('runtime_means_x_5e3-5e4_y_5e3-5e4.npy', 'rb') as f:\n",
    "    means11 = np.load(f)\n",
    "    X11 = np.load(f)\n",
    "    Y11 = np.load(f)\n",
    "\n",
    "with open('runtime_means_x_5e3-5e4_y_5e4-5e5.npy', 'rb') as f:\n",
    "    means12 = np.load(f)\n",
    "    X12 = np.load(f)\n",
    "    Y12 = np.load(f)\n",
    "\n",
    "with open('runtime_means_x_5e3-5e5_y_5.5e4-9.5e4.npy', 'rb') as f:\n",
    "    means1_2 = np.load(f)\n",
    "    X1_2 = np.load(f)\n",
    "    Y1_2 = np.load(f)\n",
    "\n",
    "s = 1\n",
    "X = np.append(X11[:-1], X)\n",
    "YY = np.append(Y11, Y1_2)\n",
    "Y = np.append(YY, Y)\n",
    "xx, yy = np.meshgrid(X, Y)\n",
    "xx = xx.astype(float)\n",
    "yy = yy.astype(float)\n",
    "\n",
    "zz = np.hstack((np.vstack((means11[:-1, :].T, means1_2[:9, :].T, means12[:-1, :].T)), np.vstack((means21[:, :].T, means1_2[9:, :].T, means.T))))\n",
    "zz = (xx[0, 0]*yy[0, 0]/zz[0, 0])*zz[::s, ::s]/(xx*yy)\n",
    "\n",
    "xx = np.log(xx)\n",
    "yy = np.log(yy)\n",
    "zz = np.log(zz)\n",
    "\n",
    "z_upper = np.log(10)\n",
    "for i in np.arange(len(X)):\n",
    "    for j in np.arange(len(Y)):\n",
    "        if zz[j, i] > z_upper:\n",
    "            zz[j, i] = np.NaN\n",
    "        else:\n",
    "            pass\n",
    "fig = plt.figure()\n",
    "# ax = plt.axes(projection='3d')\n",
    "ax = plt.axes()\n",
    "ax.set_xlabel('Left Operand Size', color='black')\n",
    "ax.set_ylabel('Right Operand Size', color='black')\n",
    "# ax.set_zlabel('Runtime per Comparison', color='g');\n",
    "\n",
    "d = len(X)//5\n",
    "xsel = [0, 9, 18]\n",
    "ax.xaxis.major.formatter._useMathText = True\n",
    "ax.set_xticks(np.log(X), minor=True)\n",
    "ax.set_xticks(np.log(X[xsel]))\n",
    "ax.set_xticklabels(X[xsel])\n",
    "ax.tick_params(axis='y', which='major', direction='out', length=5, width=1, colors='black', grid_color='r', grid_alpha=1.0, reset=True)\n",
    "ax.tick_params(axis='x', which='major', direction='out', length=5, width=1, colors='black', grid_color='r', grid_alpha=1.0)\n",
    "# ax.tick_params(axis='z', which='major', direction='out', length=5000, width=8, colors='g', grid_color='r', grid_alpha=1.0)\n",
    "ysel = [0, 9, 28]\n",
    "ax.set_yticks(np.log(np.append(Y[0:10], Y[19:29])), minor=True)\n",
    "ax.set_yticks(np.log(Y[ysel]))\n",
    "ax.set_yticklabels(Y[ysel])\n",
    "ax.get_xaxis().set_major_formatter(matplotlib.ticker.FuncFormatter(lambda x, p: r'$5\\times 10^{' + f'{int(x/np.log(10))}' + '}$'))\n",
    "ax.get_yaxis().set_major_formatter(matplotlib.ticker.FuncFormatter(lambda x, p: r'$5\\times 10^{' + f'{int(x/np.log(10))}' + '}$'))\n",
    "# ax.get_xaxis().set_major_formatter(matplotlib.ticker.ScalarFormatter())\n",
    "# ax.ticklabel_format(axis='x', style='sci')\n",
    "dz10 = 0.1\n",
    "dz100 = 0.01\n",
    "zticks = np.append(np.arange(dz100, 0.1, dz100), np.arange(dz10, 1 + dz10, dz10))\n",
    "# plt.zticks(np.log(zticks), zticks)\n",
    "#ax.set_zticks(np.log(zticks), minor=True)\n",
    "zsel = [0, 4, 7, 8, 9, 10, 11, 12, 13, 14, 15, 16, 17, 18]\n",
    "# ax.set_zticks(np.log(zticks[zsel]), minor=False)\n",
    "# ax.set_zticklabels(np.round(zticks[zsel], 2), minor=False)\n",
    "#ax.set_zlim(0, z_upper)\n",
    "img = ax.contourf(xx[::s, ::s], yy[::s, ::s], zz, 20, cmap='Reds_r')\n",
    "cbar = fig.colorbar(img, ticks=np.log(zticks[zsel]).tolist());\n",
    "min_index = np.unravel_index(np.argmin(zz),np.shape(zz))\n",
    "# cbar.set_ticks(np.log(zticks), minor=True)\n",
    "# cbar.ax.set_yticks(np.log(zticks[zsel]).tolist())\n",
    "cbar.ax.set_yticklabels([f'{t:.2f}' for t in zticks[zsel[2:]]])\n",
    "#ax.plot_wireframe(xx[::s, ::s], yy[::s, ::s], zz, rstride=1, cstride=1)\n",
    "ax.set_title('scaled runtime per string-pair comparison');\n",
    "ax.annotate('optimum',\n",
    "            xy=(np.log(X[min_index[1]]), np.log(Y[min_index[0]])),\n",
    "            xytext=(np.log(X[min_index[1]]) - 0.9, np.log(Y[min_index[0]]) - 0.4),\n",
    "            arrowprops=dict(facecolor='black', shrink=0.005))\n",
    "# plt.show()"
   ]
  },
  {
   "cell_type": "code",
   "execution_count": 95,
   "id": "naughty-african",
   "metadata": {
    "execution": {
     "iopub.execute_input": "2021-09-27T11:49:41.201863Z",
     "iopub.status.busy": "2021-09-27T11:49:41.201863Z",
     "iopub.status.idle": "2021-09-27T11:49:41.216855Z",
     "shell.execute_reply": "2021-09-27T11:49:41.214855Z",
     "shell.execute_reply.started": "2021-09-27T11:49:41.201863Z"
    },
    "tags": []
   },
   "outputs": [
    {
     "data": {
      "text/plain": [
       "array([  5000,  10000,  15000,  20000,  25000,  30000,  35000,  40000,\n",
       "        45000,  50000,  55000,  60000,  65000,  70000,  75000,  80000,\n",
       "        85000,  90000,  95000,  50000, 100000, 150000, 200000, 250000,\n",
       "       300000, 350000, 400000, 450000, 500000])"
      ]
     },
     "execution_count": 95,
     "metadata": {},
     "output_type": "execute_result"
    }
   ],
   "source": [
    "Y"
   ]
  },
  {
   "cell_type": "code",
   "execution_count": 101,
   "id": "danish-citizenship",
   "metadata": {
    "execution": {
     "iopub.execute_input": "2021-09-27T11:59:43.115406Z",
     "iopub.status.busy": "2021-09-27T11:59:43.114407Z",
     "iopub.status.idle": "2021-09-27T11:59:43.704480Z",
     "shell.execute_reply": "2021-09-27T11:59:43.703479Z",
     "shell.execute_reply.started": "2021-09-27T11:59:43.115406Z"
    },
    "tags": []
   },
   "outputs": [
    {
     "data": {
      "application/vnd.jupyter.widget-view+json": {
       "model_id": "05eafcb30dda484c8c7cb1238f7450be",
       "version_major": 2,
       "version_minor": 0
      },
      "text/plain": [
       "Canvas(toolbar=Toolbar(toolitems=[('Home', 'Reset original view', 'home', 'home'), ('Back', 'Back to previous …"
      ]
     },
     "metadata": {},
     "output_type": "display_data"
    },
    {
     "data": {
      "text/plain": [
       "<mpl_toolkits.mplot3d.art3d.Poly3DCollection at 0x1aa314831c0>"
      ]
     },
     "execution_count": 101,
     "metadata": {},
     "output_type": "execute_result"
    }
   ],
   "source": [
    "%matplotlib widget\n",
    "from mpl_toolkits import mplot3d\n",
    "import numpy as np\n",
    "import matplotlib.pyplot as plt\n",
    "import matplotlib\n",
    "\n",
    "# fig, ax = plt.subplots()\n",
    "\n",
    "with open('runtime_means_xy_5e4-5e5.npy', 'rb') as f:\n",
    "    means = np.load(f)\n",
    "    X = np.load(f)\n",
    "    Y = np.load(f)\n",
    "\n",
    "with open('runtime_means_x_5e4-5e5_y_5e3-5e4.npy', 'rb') as f:\n",
    "    means21 = np.load(f)\n",
    "    X21 = np.load(f)\n",
    "    Y21 = np.load(f)\n",
    "\n",
    "with open('runtime_means_x_5e3-5e4_y_5e3-5e4.npy', 'rb') as f:\n",
    "    means11 = np.load(f)\n",
    "    X11 = np.load(f)\n",
    "    Y11 = np.load(f)\n",
    "\n",
    "with open('runtime_means_x_5e3-5e4_y_5e4-5e5.npy', 'rb') as f:\n",
    "    means12 = np.load(f)\n",
    "    X12 = np.load(f)\n",
    "    Y12 = np.load(f)\n",
    "\n",
    "with open('runtime_means_x_5e3-5e5_y_5.5e4-9.5e4.npy', 'rb') as f:\n",
    "    means1_2 = np.load(f)\n",
    "    X1_2 = np.load(f)\n",
    "    Y1_2 = np.load(f)\n",
    "\n",
    "s = 1\n",
    "X = np.append(X11[:-1], X)\n",
    "YY = np.append(Y11, Y1_2)\n",
    "Y = np.append(YY, Y)\n",
    "xx, yy = np.meshgrid(X, Y)\n",
    "xx = xx.astype(float)\n",
    "yy = yy.astype(float)\n",
    "\n",
    "zz = np.hstack((np.vstack((means11[:-1, :].T, means1_2[:9, :].T, means12[:-1, :].T)), np.vstack((means21[:, :].T, means1_2[9:, :].T, means.T))))\n",
    "zz = (xx[0, 0]*yy[0, 0]/zz[0, 0])*zz[::s, ::s]/(xx*yy)\n",
    "\n",
    "xx = np.log(xx)\n",
    "yy = np.log(yy)\n",
    "zz = np.log(zz)\n",
    "\n",
    "z_upper = np.log(10)\n",
    "for i in np.arange(len(X)):\n",
    "    for j in np.arange(len(Y)):\n",
    "        if zz[j, i] > z_upper:\n",
    "            zz[j, i] = np.NaN\n",
    "        else:\n",
    "            pass\n",
    "fig = plt.figure()\n",
    "ax = plt.axes(projection='3d')\n",
    "ax.set_xlabel('Left Operand Size', color='b')\n",
    "ax.set_ylabel('Right Operand Size', color='r')\n",
    "ax.set_zlabel('Runtime per Comparison', color='g');\n",
    "\n",
    "d = len(X)//5\n",
    "xsel = [0, 9, 18]\n",
    "ax.xaxis.major.formatter._useMathText = True\n",
    "ax.set_xticks(np.log(X), minor=True)\n",
    "ax.set_xticks(np.log(X[xsel]))\n",
    "ax.set_xticklabels(X[xsel])\n",
    "ax.tick_params(axis='y', which='major', direction='out', length=5000, width=8, colors='r', grid_color='r', grid_alpha=1.0, reset=True)\n",
    "ax.tick_params(axis='x', which='major', direction='out', length=5000, width=8, colors='b', grid_color='r', grid_alpha=1.0)\n",
    "ax.tick_params(axis='z', which='major', direction='out', length=5000, width=8, colors='g', grid_color='r', grid_alpha=1.0)\n",
    "ysel = [0, 9, 28]\n",
    "ax.set_yticks(np.log(Y), minor=True)\n",
    "ax.set_yticks(np.log(Y[ysel]))\n",
    "ax.set_yticklabels(Y[ysel])\n",
    "ax.get_xaxis().set_major_formatter(matplotlib.ticker.FuncFormatter(lambda x, p: r'$5\\times 10^{' + f'{int(x/np.log(10))}' + '}$'))\n",
    "ax.get_yaxis().set_major_formatter(matplotlib.ticker.FuncFormatter(lambda x, p: r'$5\\times 10^{' + f'{int(x/np.log(10))}' + '}$'))\n",
    "# ax.get_xaxis().set_major_formatter(matplotlib.ticker.ScalarFormatter())\n",
    "# ax.ticklabel_format(axis='x', style='sci')\n",
    "dz10 = 0.1\n",
    "dz100 = 0.01\n",
    "zticks = np.append(np.arange(dz100, 0.1, dz100), np.arange(dz10, 1 + dz10, dz10))\n",
    "# plt.zticks(np.log(zticks), zticks)\n",
    "ax.set_zticks(np.log(zticks), minor=True)\n",
    "zsel = [0, 4, 9, 13, 18]\n",
    "ax.set_zticks(np.log(zticks[zsel]), minor=False)\n",
    "ax.set_zticklabels(np.round(zticks[zsel], 2), minor=False)\n",
    "#ax.set_zlim(0, z_upper)\n",
    "ax.plot_surface(xx[::s, ::s], yy[::s, ::s], zz, rstride=1, cstride=1, cmap='Reds_r', edgecolor='none')\n",
    "#ax.contourf(xx[::s, ::s], yy[::s, ::s], zz, levels=20, cmap='Reds_r')\n",
    "#ax.plot_wireframe(xx[::s, ::s], yy[::s, ::s], zz, rstride=1, cstride=1)\n",
    "#ax.set_title('surface');\n",
    "\n",
    "# plt.show()"
   ]
  },
  {
   "cell_type": "code",
   "execution_count": 158,
   "id": "sticky-closer",
   "metadata": {
    "execution": {
     "iopub.execute_input": "2021-09-26T17:54:37.555772Z",
     "iopub.status.busy": "2021-09-26T17:54:37.555772Z",
     "iopub.status.idle": "2021-09-26T17:54:37.564766Z",
     "shell.execute_reply": "2021-09-26T17:54:37.563767Z",
     "shell.execute_reply.started": "2021-09-26T17:54:37.555772Z"
    },
    "tags": []
   },
   "outputs": [
    {
     "data": {
      "text/plain": [
       "(15, 18)"
      ]
     },
     "execution_count": 158,
     "metadata": {},
     "output_type": "execute_result"
    }
   ],
   "source": [
    "np.unravel_index(np.argmin(zz, axis=None), zz.shape)"
   ]
  },
  {
   "cell_type": "code",
   "execution_count": 163,
   "id": "fitting-bristol",
   "metadata": {
    "execution": {
     "iopub.execute_input": "2021-09-26T18:00:39.938966Z",
     "iopub.status.busy": "2021-09-26T18:00:39.938966Z",
     "iopub.status.idle": "2021-09-26T18:00:39.954956Z",
     "shell.execute_reply": "2021-09-26T18:00:39.952957Z",
     "shell.execute_reply.started": "2021-09-26T18:00:39.938966Z"
    },
    "tags": []
   },
   "outputs": [
    {
     "data": {
      "text/plain": [
       "11.350406535472453"
      ]
     },
     "execution_count": 163,
     "metadata": {},
     "output_type": "execute_result"
    }
   ],
   "source": [
    "yy[15, 18]"
   ]
  },
  {
   "cell_type": "code",
   "execution_count": 166,
   "id": "attached-jacksonville",
   "metadata": {
    "execution": {
     "iopub.execute_input": "2021-09-26T18:04:29.965483Z",
     "iopub.status.busy": "2021-09-26T18:04:29.965483Z",
     "iopub.status.idle": "2021-09-26T18:04:29.986468Z",
     "shell.execute_reply": "2021-09-26T18:04:29.985469Z",
     "shell.execute_reply.started": "2021-09-26T18:04:29.965483Z"
    },
    "tags": []
   },
   "outputs": [
    {
     "data": {
      "text/plain": [
       "(499999.9999999997, 85000.0)"
      ]
     },
     "execution_count": 166,
     "metadata": {},
     "output_type": "execute_result"
    }
   ],
   "source": [
    "(np.exp(xx[15, 18]), np.exp(yy[15, 18]))"
   ]
  },
  {
   "cell_type": "code",
   "execution_count": null,
   "id": "julian-backup",
   "metadata": {},
   "outputs": [],
   "source": []
  }
 ],
 "metadata": {
  "kernelspec": {
   "display_name": "Python 3",
   "language": "python",
   "name": "python3"
  },
  "language_info": {
   "codemirror_mode": {
    "name": "ipython",
    "version": 3
   },
   "file_extension": ".py",
   "mimetype": "text/x-python",
   "name": "python",
   "nbconvert_exporter": "python",
   "pygments_lexer": "ipython3",
   "version": "3.9.2"
  }
 },
 "nbformat": 4,
 "nbformat_minor": 5
}
