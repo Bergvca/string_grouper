{
 "cells": [
  {
   "cell_type": "code",
   "execution_count": 1,
   "id": "arabic-press",
   "metadata": {
    "execution": {
     "iopub.execute_input": "2021-03-31T09:31:22.137764Z",
     "iopub.status.busy": "2021-03-31T09:31:22.137764Z",
     "iopub.status.idle": "2021-03-31T09:31:27.097073Z",
     "shell.execute_reply": "2021-03-31T09:31:27.096094Z",
     "shell.execute_reply.started": "2021-03-31T09:31:22.137764Z"
    }
   },
   "outputs": [],
   "source": [
    "import pandas as pd\n",
    "import numpy as np\n",
    "from string_grouper import match_strings, match_most_similar, group_similar_strings, compute_pairwise_similarities, StringGrouper"
   ]
  },
  {
   "cell_type": "code",
   "execution_count": 5,
   "id": "tracked-fundamental",
   "metadata": {
    "execution": {
     "iopub.execute_input": "2021-03-31T09:34:24.948380Z",
     "iopub.status.busy": "2021-03-31T09:34:24.948380Z",
     "iopub.status.idle": "2021-03-31T09:34:31.254427Z",
     "shell.execute_reply": "2021-03-31T09:34:31.253429Z",
     "shell.execute_reply.started": "2021-03-31T09:34:24.948380Z"
    },
    "tags": []
   },
   "outputs": [
    {
     "data": {
      "text/html": [
       "<div>\n",
       "<style scoped>\n",
       "    .dataframe tbody tr th:only-of-type {\n",
       "        vertical-align: middle;\n",
       "    }\n",
       "\n",
       "    .dataframe tbody tr th {\n",
       "        vertical-align: top;\n",
       "    }\n",
       "\n",
       "    .dataframe thead th {\n",
       "        text-align: right;\n",
       "    }\n",
       "</style>\n",
       "<table border=\"1\" class=\"dataframe\">\n",
       "  <thead>\n",
       "    <tr style=\"text-align: right;\">\n",
       "      <th></th>\n",
       "      <th>left_index</th>\n",
       "      <th>left_Company Name</th>\n",
       "      <th>similarity</th>\n",
       "      <th>right_Company Name</th>\n",
       "      <th>right_index</th>\n",
       "    </tr>\n",
       "  </thead>\n",
       "  <tbody>\n",
       "    <tr>\n",
       "      <th>15</th>\n",
       "      <td>14</td>\n",
       "      <td>0210, LLC</td>\n",
       "      <td>0.870291</td>\n",
       "      <td>90210 LLC</td>\n",
       "      <td>4211</td>\n",
       "    </tr>\n",
       "    <tr>\n",
       "      <th>167</th>\n",
       "      <td>165</td>\n",
       "      <td>1 800 MUTUALS ADVISOR SERIES</td>\n",
       "      <td>0.931615</td>\n",
       "      <td>1 800 MUTUALS ADVISORS SERIES</td>\n",
       "      <td>166</td>\n",
       "    </tr>\n",
       "    <tr>\n",
       "      <th>168</th>\n",
       "      <td>166</td>\n",
       "      <td>1 800 MUTUALS ADVISORS SERIES</td>\n",
       "      <td>0.931615</td>\n",
       "      <td>1 800 MUTUALS ADVISOR SERIES</td>\n",
       "      <td>165</td>\n",
       "    </tr>\n",
       "    <tr>\n",
       "      <th>172</th>\n",
       "      <td>168</td>\n",
       "      <td>1 800 RADIATOR FRANCHISE INC</td>\n",
       "      <td>1.000000</td>\n",
       "      <td>1-800-RADIATOR FRANCHISE INC.</td>\n",
       "      <td>201</td>\n",
       "    </tr>\n",
       "    <tr>\n",
       "      <th>178</th>\n",
       "      <td>173</td>\n",
       "      <td>1 FINANCIAL MARKETPLACE SECURITIES LLC        ...</td>\n",
       "      <td>0.949364</td>\n",
       "      <td>1 FINANCIAL MARKETPLACE SECURITIES, LLC</td>\n",
       "      <td>174</td>\n",
       "    </tr>\n",
       "  </tbody>\n",
       "</table>\n",
       "</div>"
      ],
      "text/plain": [
       "     left_index                                  left_Company Name  \\\n",
       "15           14                                          0210, LLC   \n",
       "167         165                       1 800 MUTUALS ADVISOR SERIES   \n",
       "168         166                      1 800 MUTUALS ADVISORS SERIES   \n",
       "172         168                       1 800 RADIATOR FRANCHISE INC   \n",
       "178         173  1 FINANCIAL MARKETPLACE SECURITIES LLC        ...   \n",
       "\n",
       "     similarity                       right_Company Name  right_index  \n",
       "15     0.870291                                90210 LLC         4211  \n",
       "167    0.931615            1 800 MUTUALS ADVISORS SERIES          166  \n",
       "168    0.931615             1 800 MUTUALS ADVISOR SERIES          165  \n",
       "172    1.000000            1-800-RADIATOR FRANCHISE INC.          201  \n",
       "178    0.949364  1 FINANCIAL MARKETPLACE SECURITIES, LLC          174  "
      ]
     },
     "execution_count": 5,
     "metadata": {},
     "output_type": "execute_result"
    }
   ],
   "source": [
    "company_names = 'data/sec__edgar_company_info.csv'\n",
    "# We only look at the first 50k as an example:\n",
    "companies = pd.read_csv(company_names)[0:50000]\n",
    "# Create all matches:\n",
    "matches = match_strings(companies['Company Name'])\n",
    "# Look at only the non-exact matches:\n",
    "matches[matches['left_Company Name'] != matches['right_Company Name']].head()"
   ]
  },
  {
   "cell_type": "code",
   "execution_count": 6,
   "id": "fabulous-dallas",
   "metadata": {
    "execution": {
     "iopub.execute_input": "2021-03-31T09:50:48.921570Z",
     "iopub.status.busy": "2021-03-31T09:50:48.921570Z",
     "iopub.status.idle": "2021-03-31T09:50:51.419733Z",
     "shell.execute_reply": "2021-03-31T09:50:51.418736Z",
     "shell.execute_reply.started": "2021-03-31T09:50:48.921570Z"
    }
   },
   "outputs": [
    {
     "data": {
      "text/html": [
       "<div>\n",
       "<style scoped>\n",
       "    .dataframe tbody tr th:only-of-type {\n",
       "        vertical-align: middle;\n",
       "    }\n",
       "\n",
       "    .dataframe tbody tr th {\n",
       "        vertical-align: top;\n",
       "    }\n",
       "\n",
       "    .dataframe thead th {\n",
       "        text-align: right;\n",
       "    }\n",
       "</style>\n",
       "<table border=\"1\" class=\"dataframe\">\n",
       "  <thead>\n",
       "    <tr style=\"text-align: right;\">\n",
       "      <th></th>\n",
       "      <th>left_index</th>\n",
       "      <th>left_Company Name</th>\n",
       "      <th>similarity</th>\n",
       "      <th>right_side</th>\n",
       "      <th>right_index</th>\n",
       "    </tr>\n",
       "  </thead>\n",
       "  <tbody>\n",
       "    <tr>\n",
       "      <th>0</th>\n",
       "      <td>12</td>\n",
       "      <td>012 SMILE.COMMUNICATIONS LTD</td>\n",
       "      <td>0.944092</td>\n",
       "      <td>012 SMILE.COMMUNICATIONS</td>\n",
       "      <td>1</td>\n",
       "    </tr>\n",
       "    <tr>\n",
       "      <th>1</th>\n",
       "      <td>49777</td>\n",
       "      <td>B.A.S. MEDIA GROUP</td>\n",
       "      <td>0.854383</td>\n",
       "      <td>S MEDIA GROUP</td>\n",
       "      <td>0</td>\n",
       "    </tr>\n",
       "    <tr>\n",
       "      <th>2</th>\n",
       "      <td>49855</td>\n",
       "      <td>B4UTRADE COM CORP</td>\n",
       "      <td>1.000000</td>\n",
       "      <td>B4UTRADE COM CORP</td>\n",
       "      <td>3</td>\n",
       "    </tr>\n",
       "    <tr>\n",
       "      <th>3</th>\n",
       "      <td>49856</td>\n",
       "      <td>B4UTRADE COM INC</td>\n",
       "      <td>0.810217</td>\n",
       "      <td>B4UTRADE COM CORP</td>\n",
       "      <td>3</td>\n",
       "    </tr>\n",
       "    <tr>\n",
       "      <th>4</th>\n",
       "      <td>49857</td>\n",
       "      <td>B4UTRADE CORP</td>\n",
       "      <td>0.878276</td>\n",
       "      <td>B4UTRADE COM CORP</td>\n",
       "      <td>3</td>\n",
       "    </tr>\n",
       "  </tbody>\n",
       "</table>\n",
       "</div>"
      ],
      "text/plain": [
       "   left_index             left_Company Name  similarity  \\\n",
       "0          12  012 SMILE.COMMUNICATIONS LTD    0.944092   \n",
       "1       49777            B.A.S. MEDIA GROUP    0.854383   \n",
       "2       49855             B4UTRADE COM CORP    1.000000   \n",
       "3       49856              B4UTRADE COM INC    0.810217   \n",
       "4       49857                 B4UTRADE CORP    0.878276   \n",
       "\n",
       "                 right_side  right_index  \n",
       "0  012 SMILE.COMMUNICATIONS            1  \n",
       "1             S MEDIA GROUP            0  \n",
       "2         B4UTRADE COM CORP            3  \n",
       "3         B4UTRADE COM CORP            3  \n",
       "4         B4UTRADE COM CORP            3  "
      ]
     },
     "execution_count": 6,
     "metadata": {},
     "output_type": "execute_result"
    }
   ],
   "source": [
    "# Create a small set of artificial company names:\n",
    "duplicates = pd.Series(['S MEDIA GROUP', '012 SMILE.COMMUNICATIONS', 'foo bar', 'B4UTRADE COM CORP'])\n",
    "# Create all matches:\n",
    "matches = match_strings(companies['Company Name'], duplicates)\n",
    "matches"
   ]
  },
  {
   "cell_type": "code",
   "execution_count": 16,
   "id": "conservative-completion",
   "metadata": {
    "execution": {
     "iopub.execute_input": "2021-03-31T10:14:09.864631Z",
     "iopub.status.busy": "2021-03-31T10:14:09.863632Z",
     "iopub.status.idle": "2021-03-31T10:14:12.320118Z",
     "shell.execute_reply": "2021-03-31T10:14:12.319118Z",
     "shell.execute_reply.started": "2021-03-31T10:14:09.864631Z"
    },
    "tags": []
   },
   "outputs": [
    {
     "data": {
      "text/html": [
       "<div>\n",
       "<style scoped>\n",
       "    .dataframe tbody tr th:only-of-type {\n",
       "        vertical-align: middle;\n",
       "    }\n",
       "\n",
       "    .dataframe tbody tr th {\n",
       "        vertical-align: top;\n",
       "    }\n",
       "\n",
       "    .dataframe thead th {\n",
       "        text-align: right;\n",
       "    }\n",
       "</style>\n",
       "<table border=\"1\" class=\"dataframe\">\n",
       "  <thead>\n",
       "    <tr style=\"text-align: right;\">\n",
       "      <th></th>\n",
       "      <th>new_companies</th>\n",
       "      <th>duplicates</th>\n",
       "    </tr>\n",
       "  </thead>\n",
       "  <tbody>\n",
       "    <tr>\n",
       "      <th>0</th>\n",
       "      <td>S MEDIA GROUP</td>\n",
       "      <td>B.A.S. MEDIA GROUP</td>\n",
       "    </tr>\n",
       "    <tr>\n",
       "      <th>1</th>\n",
       "      <td>012 SMILE.COMMUNICATIONS</td>\n",
       "      <td>012 SMILE.COMMUNICATIONS LTD</td>\n",
       "    </tr>\n",
       "    <tr>\n",
       "      <th>2</th>\n",
       "      <td>foo bar</td>\n",
       "      <td>foo bar</td>\n",
       "    </tr>\n",
       "    <tr>\n",
       "      <th>3</th>\n",
       "      <td>B4UTRADE COM CORP</td>\n",
       "      <td>B4UTRADE COM CORP</td>\n",
       "    </tr>\n",
       "  </tbody>\n",
       "</table>\n",
       "</div>"
      ],
      "text/plain": [
       "              new_companies                    duplicates\n",
       "0             S MEDIA GROUP            B.A.S. MEDIA GROUP\n",
       "1  012 SMILE.COMMUNICATIONS  012 SMILE.COMMUNICATIONS LTD\n",
       "2                   foo bar                       foo bar\n",
       "3         B4UTRADE COM CORP             B4UTRADE COM CORP"
      ]
     },
     "execution_count": 16,
     "metadata": {},
     "output_type": "execute_result"
    }
   ],
   "source": [
    "# Create a small set of artificial company names:\n",
    "new_companies = pd.Series(['S MEDIA GROUP', '012 SMILE.COMMUNICATIONS', 'foo bar', 'B4UTRADE COM CORP'], name='New Company')\n",
    "# Create all matches:\n",
    "matches = match_most_similar(companies['Company Name'], new_companies, ignore_index=True)\n",
    "# Display the results:\n",
    "pd.DataFrame({'new_companies': new_companies, 'duplicates': matches})"
   ]
  },
  {
   "cell_type": "code",
   "execution_count": 12,
   "id": "unlike-ethiopia",
   "metadata": {
    "execution": {
     "iopub.execute_input": "2021-03-31T10:04:30.568371Z",
     "iopub.status.busy": "2021-03-31T10:04:30.567372Z",
     "iopub.status.idle": "2021-03-31T10:04:40.187538Z",
     "shell.execute_reply": "2021-03-31T10:04:40.186532Z",
     "shell.execute_reply.started": "2021-03-31T10:04:30.567372Z"
    }
   },
   "outputs": [
    {
     "data": {
      "text/plain": [
       "deduplicated_name\n",
       "ADVISORS DISCIPLINED TRUST                                      1824\n",
       "AGL LIFE ASSURANCE CO SEPARATE ACCOUNT                           183\n",
       "ANGELLIST-ART-FUND, A SERIES OF ANGELLIST-FG-FUNDS, LLC          116\n",
       "AMERICREDIT AUTOMOBILE RECEIVABLES TRUST 2001-1                   87\n",
       "ACE SECURITIES CORP. HOME EQUITY LOAN TRUST, SERIES 2006-HE2      57\n",
       "ASSET-BACKED PASS-THROUGH CERTIFICATES SERIES 2004-W1             40\n",
       "ALLSTATE LIFE GLOBAL FUNDING TRUST 2005-3                         39\n",
       "ALLY AUTO RECEIVABLES TRUST 2014-1                                33\n",
       "ANDERSON ROBERT E /                                               28\n",
       "ADVENT INTERNATIONAL GPE VIII LIMITED PARTNERSHIP                 28\n",
       "Name: Line Number, dtype: int64"
      ]
     },
     "execution_count": 12,
     "metadata": {},
     "output_type": "execute_result"
    }
   ],
   "source": [
    "# Add the grouped strings:\n",
    "companies['deduplicated_name'] = group_similar_strings(companies['Company Name'], ignore_index=True)\n",
    "# Show items with most duplicates:\n",
    "companies.groupby('deduplicated_name')['Line Number'].count().sort_values(ascending=False).head(10)"
   ]
  },
  {
   "cell_type": "code",
   "execution_count": 17,
   "id": "norman-trace",
   "metadata": {
    "execution": {
     "iopub.execute_input": "2021-03-31T10:20:22.468930Z",
     "iopub.status.busy": "2021-03-31T10:20:22.467930Z",
     "iopub.status.idle": "2021-03-31T10:20:22.490912Z",
     "shell.execute_reply": "2021-03-31T10:20:22.489912Z",
     "shell.execute_reply.started": "2021-03-31T10:20:22.468930Z"
    },
    "tags": []
   },
   "outputs": [
    {
     "data": {
      "text/html": [
       "<div>\n",
       "<style scoped>\n",
       "    .dataframe tbody tr th:only-of-type {\n",
       "        vertical-align: middle;\n",
       "    }\n",
       "\n",
       "    .dataframe tbody tr th {\n",
       "        vertical-align: top;\n",
       "    }\n",
       "\n",
       "    .dataframe thead th {\n",
       "        text-align: right;\n",
       "    }\n",
       "</style>\n",
       "<table border=\"1\" class=\"dataframe\">\n",
       "  <thead>\n",
       "    <tr style=\"text-align: right;\">\n",
       "      <th></th>\n",
       "      <th>Customer Name</th>\n",
       "    </tr>\n",
       "    <tr>\n",
       "      <th>Customer ID</th>\n",
       "      <th></th>\n",
       "    </tr>\n",
       "  </thead>\n",
       "  <tbody>\n",
       "    <tr>\n",
       "      <th>BB016741P</th>\n",
       "      <td>Mega Enterprises Corporation</td>\n",
       "    </tr>\n",
       "    <tr>\n",
       "      <th>CC082744L</th>\n",
       "      <td>Hyper Startup Incorporated</td>\n",
       "    </tr>\n",
       "    <tr>\n",
       "      <th>AA098762D</th>\n",
       "      <td>Hyper Startup Inc.</td>\n",
       "    </tr>\n",
       "    <tr>\n",
       "      <th>BB099931J</th>\n",
       "      <td>Hyper-Startup Inc.</td>\n",
       "    </tr>\n",
       "    <tr>\n",
       "      <th>HH072982K</th>\n",
       "      <td>Hyper Hyper Inc.</td>\n",
       "    </tr>\n",
       "  </tbody>\n",
       "</table>\n",
       "</div>"
      ],
      "text/plain": [
       "                            Customer Name\n",
       "Customer ID                              \n",
       "BB016741P    Mega Enterprises Corporation\n",
       "CC082744L      Hyper Startup Incorporated\n",
       "AA098762D              Hyper Startup Inc.\n",
       "BB099931J              Hyper-Startup Inc.\n",
       "HH072982K                Hyper Hyper Inc."
      ]
     },
     "execution_count": 17,
     "metadata": {},
     "output_type": "execute_result"
    }
   ],
   "source": [
    "# Create a small set of artificial customer names:\n",
    "customers_df = pd.DataFrame(\n",
    "   [\n",
    "      ('BB016741P', 'Mega Enterprises Corporation'),\n",
    "      ('CC082744L', 'Hyper Startup Incorporated'),\n",
    "      ('AA098762D', 'Hyper Startup Inc.'),\n",
    "      ('BB099931J', 'Hyper-Startup Inc.'),\n",
    "      ('HH072982K', 'Hyper Hyper Inc.')\n",
    "   ],\n",
    "   columns=('Customer ID', 'Customer Name')\n",
    ").set_index('Customer ID')\n",
    "# Display the data:\n",
    "customers_df"
   ]
  },
  {
   "cell_type": "code",
   "execution_count": 18,
   "id": "intelligent-fisher",
   "metadata": {
    "execution": {
     "iopub.execute_input": "2021-03-31T10:20:48.738029Z",
     "iopub.status.busy": "2021-03-31T10:20:48.738029Z",
     "iopub.status.idle": "2021-03-31T10:20:48.785000Z",
     "shell.execute_reply": "2021-03-31T10:20:48.784000Z",
     "shell.execute_reply.started": "2021-03-31T10:20:48.738029Z"
    },
    "tags": []
   },
   "outputs": [
    {
     "data": {
      "text/html": [
       "<div>\n",
       "<style scoped>\n",
       "    .dataframe tbody tr th:only-of-type {\n",
       "        vertical-align: middle;\n",
       "    }\n",
       "\n",
       "    .dataframe tbody tr th {\n",
       "        vertical-align: top;\n",
       "    }\n",
       "\n",
       "    .dataframe thead th {\n",
       "        text-align: right;\n",
       "    }\n",
       "</style>\n",
       "<table border=\"1\" class=\"dataframe\">\n",
       "  <thead>\n",
       "    <tr style=\"text-align: right;\">\n",
       "      <th></th>\n",
       "      <th>Customer Name</th>\n",
       "      <th>group-id</th>\n",
       "      <th>name_deduped</th>\n",
       "    </tr>\n",
       "    <tr>\n",
       "      <th>Customer ID</th>\n",
       "      <th></th>\n",
       "      <th></th>\n",
       "      <th></th>\n",
       "    </tr>\n",
       "  </thead>\n",
       "  <tbody>\n",
       "    <tr>\n",
       "      <th>BB016741P</th>\n",
       "      <td>Mega Enterprises Corporation</td>\n",
       "      <td>BB016741P</td>\n",
       "      <td>Mega Enterprises Corporation</td>\n",
       "    </tr>\n",
       "    <tr>\n",
       "      <th>CC082744L</th>\n",
       "      <td>Hyper Startup Incorporated</td>\n",
       "      <td>CC082744L</td>\n",
       "      <td>Hyper Startup Incorporated</td>\n",
       "    </tr>\n",
       "    <tr>\n",
       "      <th>AA098762D</th>\n",
       "      <td>Hyper Startup Inc.</td>\n",
       "      <td>AA098762D</td>\n",
       "      <td>Hyper Startup Inc.</td>\n",
       "    </tr>\n",
       "    <tr>\n",
       "      <th>BB099931J</th>\n",
       "      <td>Hyper-Startup Inc.</td>\n",
       "      <td>AA098762D</td>\n",
       "      <td>Hyper Startup Inc.</td>\n",
       "    </tr>\n",
       "    <tr>\n",
       "      <th>HH072982K</th>\n",
       "      <td>Hyper Hyper Inc.</td>\n",
       "      <td>HH072982K</td>\n",
       "      <td>Hyper Hyper Inc.</td>\n",
       "    </tr>\n",
       "  </tbody>\n",
       "</table>\n",
       "</div>"
      ],
      "text/plain": [
       "                            Customer Name   group-id  \\\n",
       "Customer ID                                            \n",
       "BB016741P    Mega Enterprises Corporation  BB016741P   \n",
       "CC082744L      Hyper Startup Incorporated  CC082744L   \n",
       "AA098762D              Hyper Startup Inc.  AA098762D   \n",
       "BB099931J              Hyper-Startup Inc.  AA098762D   \n",
       "HH072982K                Hyper Hyper Inc.  HH072982K   \n",
       "\n",
       "                             name_deduped  \n",
       "Customer ID                                \n",
       "BB016741P    Mega Enterprises Corporation  \n",
       "CC082744L      Hyper Startup Incorporated  \n",
       "AA098762D              Hyper Startup Inc.  \n",
       "BB099931J              Hyper Startup Inc.  \n",
       "HH072982K                Hyper Hyper Inc.  "
      ]
     },
     "execution_count": 18,
     "metadata": {},
     "output_type": "execute_result"
    }
   ],
   "source": [
    "# Group customers with similar names:\n",
    "customers_df[[\"group-id\", \"name_deduped\"]]  = \\\n",
    "    group_similar_strings(customers_df[\"Customer Name\"])\n",
    "# Display the mapping table:\n",
    "customers_df"
   ]
  },
  {
   "cell_type": "code",
   "execution_count": 27,
   "id": "toxic-taylor",
   "metadata": {
    "execution": {
     "iopub.execute_input": "2021-03-31T10:37:28.234985Z",
     "iopub.status.busy": "2021-03-31T10:37:28.233985Z",
     "iopub.status.idle": "2021-03-31T10:37:28.971826Z",
     "shell.execute_reply": "2021-03-31T10:37:28.970820Z",
     "shell.execute_reply.started": "2021-03-31T10:37:28.234985Z"
    },
    "tags": []
   },
   "outputs": [],
   "source": [
    "companies = pd.read_csv(company_names)"
   ]
  },
  {
   "cell_type": "code",
   "execution_count": 28,
   "id": "public-header",
   "metadata": {
    "execution": {
     "iopub.execute_input": "2021-03-31T10:37:37.706594Z",
     "iopub.status.busy": "2021-03-31T10:37:37.706594Z",
     "iopub.status.idle": "2021-03-31T10:37:37.919464Z",
     "shell.execute_reply": "2021-03-31T10:37:37.918463Z",
     "shell.execute_reply.started": "2021-03-31T10:37:37.706594Z"
    },
    "tags": []
   },
   "outputs": [
    {
     "data": {
      "text/plain": [
       "['mcd', 'cdo', 'don', 'ona', 'nal', 'ald', 'lds']"
      ]
     },
     "execution_count": 28,
     "metadata": {},
     "output_type": "execute_result"
    }
   ],
   "source": [
    "# Create a new StringGrouper\n",
    "string_grouper = StringGrouper(companies['Company Name'], ignore_index=True)\n",
    "# Check if the ngram function does what we expect:\n",
    "string_grouper.n_grams('McDonalds')"
   ]
  },
  {
   "cell_type": "code",
   "execution_count": null,
   "id": "olympic-slide",
   "metadata": {
    "execution": {
     "iopub.execute_input": "2021-03-31T10:37:48.337335Z",
     "iopub.status.busy": "2021-03-31T10:37:48.337335Z"
    },
    "tags": []
   },
   "outputs": [],
   "source": [
    "# Now fit the StringGrouper - this will take a while since we are calculating cosine similarities on 600k strings\n",
    "string_grouper = string_grouper.fit()"
   ]
  },
  {
   "cell_type": "code",
   "execution_count": 26,
   "id": "large-exercise",
   "metadata": {
    "execution": {
     "iopub.execute_input": "2021-03-31T10:35:49.961263Z",
     "iopub.status.busy": "2021-03-31T10:35:49.961263Z",
     "iopub.status.idle": "2021-03-31T10:35:53.988780Z",
     "shell.execute_reply": "2021-03-31T10:35:53.987783Z",
     "shell.execute_reply.started": "2021-03-31T10:35:49.961263Z"
    },
    "tags": []
   },
   "outputs": [],
   "source": [
    "# Add the grouped strings\n",
    "companies['deduplicated_name'] = string_grouper.get_groups()"
   ]
  },
  {
   "cell_type": "code",
   "execution_count": null,
   "id": "complete-poetry",
   "metadata": {},
   "outputs": [],
   "source": []
  }
 ],
 "metadata": {
  "kernelspec": {
   "display_name": "Python 3",
   "language": "python",
   "name": "python3"
  },
  "language_info": {
   "codemirror_mode": {
    "name": "ipython",
    "version": 3
   },
   "file_extension": ".py",
   "mimetype": "text/x-python",
   "name": "python",
   "nbconvert_exporter": "python",
   "pygments_lexer": "ipython3",
   "version": "3.9.2"
  }
 },
 "nbformat": 4,
 "nbformat_minor": 5
}
